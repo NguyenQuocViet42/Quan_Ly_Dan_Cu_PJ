{
 "cells": [
  {
   "cell_type": "code",
   "execution_count": 1,
   "metadata": {},
   "outputs": [
    {
     "data": {
      "text/plain": [
       "6"
      ]
     },
     "execution_count": 1,
     "metadata": {},
     "output_type": "execute_result"
    }
   ],
   "source": [
    "import connectDB\n",
    "import ChucNang\n",
    "import datetime\n",
    "dk = connectDB.getListCuDanFromHoKhau('240000001')\n",
    "len(dk)"
   ]
  },
  {
   "cell_type": "markdown",
   "metadata": {},
   "source": [
    "ChucNang.ThemNhanKhauMoi(CCCD = None, Hoten = 'Viet', GioiTinh = 'Nam', NgaySinh = datetime.datetime(2002, 11, 15), DanToc = 'Kinh', QuocTich='viet Nam', NgheNghiep='none', QueQuan='Hanoi', BiDanh='Tony', MaSo = '240000001' , QuanHe='Con', NgayDangKyThuongTru = datetime.datetime(2002, 11, 15), DiaChiCu = None)"
   ]
  },
  {
   "cell_type": "code",
   "execution_count": 2,
   "metadata": {},
   "outputs": [],
   "source": [
    "ChucNang.ThayDoiNhanKhau(NgayChuyenDi=datetime.datetime(2023,9,1), NoiChuyenDi='Thạch Thất, Hà Nội', GhiChu='Về quê', ID=3, HoTen= 'Nguyễn Văn Hà', CCCD = '001080000001', MaSo='240000001')"
   ]
  },
  {
   "cell_type": "code",
   "execution_count": 6,
   "metadata": {},
   "outputs": [
    {
     "data": {
      "text/plain": [
       "(240000002, '001077000007', 3, 'số 13 tổ 7', 'La Khê', 'Hà Đông', 'Hà Nội')"
      ]
     },
     "execution_count": 6,
     "metadata": {},
     "output_type": "execute_result"
    }
   ],
   "source": [
    "HoKhau, ThanhVien = ChucNang.XemSoHoKhau('240000002')\n",
    "HoKhau"
   ]
  },
  {
   "cell_type": "code",
   "execution_count": 7,
   "metadata": {},
   "outputs": [
    {
     "name": "stdout",
     "output_type": "stream",
     "text": [
      "(1, '001077000007', 'Phạm Văn Hiếu', 'Nam', '1977-02-24', 'Kinh', 'Việt Nam', None, 'Hà Nội', None, 240000002, 'Chủ hộ', None, None, None, None, None)\n",
      "(11, '001202000009', 'Phạm Hoàng Hải', 'Nam', '2002-03-11', 'Kinh', 'Việt Nam', 'Sinh Viên', 'Hà Nội', None, 240000002, 'Con 1', None, None, None, None, None)\n",
      "(30, '004185000008', 'Bùi Ánh Viên', 'Nữ', '1985-05-16', 'Nùng', 'Việt Nam', 'Vận Động Viên', 'Cao Bằng', None, 240000002, 'Vợ', None, None, None, None, None)\n"
     ]
    }
   ],
   "source": [
    "for i in ThanhVien:\n",
    "    print(i)"
   ]
  }
 ],
 "metadata": {
  "kernelspec": {
   "display_name": "Python 3",
   "language": "python",
   "name": "python3"
  },
  "language_info": {
   "codemirror_mode": {
    "name": "ipython",
    "version": 3
   },
   "file_extension": ".py",
   "mimetype": "text/x-python",
   "name": "python",
   "nbconvert_exporter": "python",
   "pygments_lexer": "ipython3",
   "version": "3.9.6 (tags/v3.9.6:db3ff76, Jun 28 2021, 15:26:21) [MSC v.1929 64 bit (AMD64)]"
  },
  "orig_nbformat": 4,
  "vscode": {
   "interpreter": {
    "hash": "14958d3aee5f1cad06795f787e54b96185c25fb40dfec723a5be941f3a531b8c"
   }
  }
 },
 "nbformat": 4,
 "nbformat_minor": 2
}
