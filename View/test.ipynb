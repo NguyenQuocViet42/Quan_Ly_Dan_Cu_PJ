{
 "cells": [
  {
   "cell_type": "code",
   "execution_count": 1,
   "metadata": {},
   "outputs": [
    {
     "data": {
      "text/plain": [
       "6"
      ]
     },
     "execution_count": 1,
     "metadata": {},
     "output_type": "execute_result"
    }
   ],
   "source": [
    "import connectDB\n",
    "import ChucNang\n",
    "import datetime\n",
    "dk = connectDB.getListCuDanFromHoKhau('240000001')\n",
    "len(dk)"
   ]
  },
  {
   "cell_type": "code",
   "execution_count": 3,
   "metadata": {},
   "outputs": [
    {
     "data": {
      "text/plain": [
       "(4, 'Nguyễn Quốc Việt', '001202031426', 'Thach That', '2023-01-10', '2023-02-10', 'Đi du lịch', '2023-01-10')"
      ]
     },
     "execution_count": 3,
     "metadata": {},
     "output_type": "execute_result"
    }
   ],
   "source": [
    "ChucNang.XemGiayTamTru('Nguyễn Quốc Việt', '001202031426')"
   ]
  },
  {
   "cell_type": "code",
   "execution_count": 2,
   "metadata": {},
   "outputs": [
    {
     "data": {
      "text/plain": [
       "0"
      ]
     },
     "execution_count": 2,
     "metadata": {},
     "output_type": "execute_result"
    }
   ],
   "source": [
    "ChucNang.CapGiayTamTru('Nguyễn Quốc Việt', '001202031426', 'Thach That', 'La Khê',datetime.datetime(2023,1,10), datetime.datetime(2023,2,10), 'Học đại học', datetime.datetime(2023,1,10))"
   ]
  },
  {
   "cell_type": "markdown",
   "metadata": {},
   "source": [
    "ChucNang.ThemNhanKhauMoi(CCCD = None, Hoten = 'Nguyễn Khánh Ngu', GioiTinh = 'Nam', NgaySinh = datetime.datetime(2002, 11, 15), DanToc = 'Kinh', QuocTich='viet Nam', NgheNghiep='none', QueQuan='Hanoi', BiDanh='Tony', MaSo = '000000001' , QuanHe='Chủ Hộ', NgayDangKyThuongTru = datetime.datetime(2002, 11, 15), DiaChiCu = None)"
   ]
  },
  {
   "cell_type": "markdown",
   "metadata": {},
   "source": [
    "ChucNang.ThayDoiNhanKhau(NgayChuyenDi=datetime.datetime(2023,9,1), NoiChuyenDi='Thạch Thất, Hà Nội', GhiChu='Về quê', ID=3, HoTen= 'Nguyễn Văn Hà', CCCD = '001080000001', MaSo='240000001')"
   ]
  },
  {
   "cell_type": "code",
   "execution_count": 4,
   "metadata": {},
   "outputs": [
    {
     "ename": "IndexError",
     "evalue": "list index out of range",
     "output_type": "error",
     "traceback": [
      "\u001b[1;31m---------------------------------------------------------------------------\u001b[0m",
      "\u001b[1;31mIndexError\u001b[0m                                Traceback (most recent call last)",
      "Cell \u001b[1;32mIn [4], line 1\u001b[0m\n\u001b[1;32m----> 1\u001b[0m HoKhau, ThanhVien \u001b[39m=\u001b[39m ChucNang\u001b[39m.\u001b[39;49mXemSoHoKhau(\u001b[39m'\u001b[39;49m\u001b[39m10000000\u001b[39;49m\u001b[39m'\u001b[39;49m)\n\u001b[0;32m      2\u001b[0m HoKhau\n",
      "File \u001b[1;32md:\\Study\\Software engineering\\Project\\Project\\Quan_Ly_Dan_Cu\\View\\ChucNang.py:8\u001b[0m, in \u001b[0;36mXemSoHoKhau\u001b[1;34m(MaSo)\u001b[0m\n\u001b[0;32m      5\u001b[0m def XemSoHoKhau(MaSo):\n\u001b[0;32m      6\u001b[0m     error_code = 0\n\u001b[0;32m      7\u001b[0m     # Thông tin hộ khẩu: \n\u001b[1;32m----> 8\u001b[0m     # MaSo, CCCDChuHo, SoThanhVien, SoNha/TenDuong, Phuong/Xa, Quan/Huyen,Tinh\n\u001b[0;32m      9\u001b[0m     HoKhau = connectDB.getHoKhau(MaSo)[0]\n\u001b[0;32m     10\u001b[0m     ListCCCD = connectDB.getListCuDanFromHoKhau(HoKhau[0])\n",
      "\u001b[1;31mIndexError\u001b[0m: list index out of range"
     ]
    }
   ],
   "source": [
    "HoKhau, ThanhVien = ChucNang.XemSoHoKhau('10000000')\n",
    "HoKhau"
   ]
  },
  {
   "cell_type": "code",
   "execution_count": 9,
   "metadata": {},
   "outputs": [
    {
     "name": "stdout",
     "output_type": "stream",
     "text": [
      "(58, '001202031426', 'Nguyễn Quốc Việt', 'Nam', '2002-11-15', 'Kinh', 'viet Nam', None, 'Hanoi', 'Tony', 100000001, 'Chủ Hộ', '2002-11-15', 'Mới Sinh', None, None, None)\n"
     ]
    }
   ],
   "source": [
    "for i in ThanhVien:\n",
    "    print(i)"
   ]
  }
 ],
 "metadata": {
  "kernelspec": {
   "display_name": "Python 3",
   "language": "python",
   "name": "python3"
  },
  "language_info": {
   "codemirror_mode": {
    "name": "ipython",
    "version": 3
   },
   "file_extension": ".py",
   "mimetype": "text/x-python",
   "name": "python",
   "nbconvert_exporter": "python",
   "pygments_lexer": "ipython3",
   "version": "3.9.6"
  },
  "orig_nbformat": 4,
  "vscode": {
   "interpreter": {
    "hash": "14958d3aee5f1cad06795f787e54b96185c25fb40dfec723a5be941f3a531b8c"
   }
  }
 },
 "nbformat": 4,
 "nbformat_minor": 2
}
