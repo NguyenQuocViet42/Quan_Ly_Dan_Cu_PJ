{
 "cells": [
  {
   "cell_type": "code",
   "execution_count": 1,
   "metadata": {},
   "outputs": [
    {
     "data": {
      "text/plain": [
       "6"
      ]
     },
     "execution_count": 1,
     "metadata": {},
     "output_type": "execute_result"
    }
   ],
   "source": [
    "import connectDB\n",
    "import ChucNang\n",
    "import datetime\n",
    "dk = connectDB.getListCuDanFromHoKhau('240000001')\n",
    "len(dk)"
   ]
  },
  {
   "cell_type": "code",
   "execution_count": 2,
   "metadata": {},
   "outputs": [],
   "source": [
    "connectDB.InsertSoHoKhau(100000001, [[58, 'Chủ hộ'], [59, 'Con']], SoNha = '1', Phuong='La Khê', Quan='Hà Đông', Tinh='Hà Nội')"
   ]
  },
  {
   "cell_type": "code",
   "execution_count": 3,
   "metadata": {},
   "outputs": [],
   "source": [
    "HoKhau_1 = [100000001, [[58, 'Chủ Hộ']], 'Số 1', 'La Khê', 'Hà Đông', 'Hà Nội']\n",
    "HoKhau_2 = [None, [[59, 'Chủ Hộ']], 'Số 2', 'La Khê', 'Hà Đông', 'Hà Nội']\n",
    "ChucNang.TachHoKhau(HoKhau_1, HoKhau_2)"
   ]
  },
  {
   "cell_type": "markdown",
   "metadata": {},
   "source": [
    "ChucNang.ThemNhanKhauMoi(CCCD = None, Hoten = 'Nguyễn Khánh Ngu', GioiTinh = 'Nam', NgaySinh = datetime.datetime(2002, 11, 15), DanToc = 'Kinh', QuocTich='viet Nam', NgheNghiep='none', QueQuan='Hanoi', BiDanh='Tony', MaSo = '000000001' , QuanHe='Chủ Hộ', NgayDangKyThuongTru = datetime.datetime(2002, 11, 15), DiaChiCu = None)"
   ]
  },
  {
   "cell_type": "markdown",
   "metadata": {},
   "source": [
    "ChucNang.ThayDoiNhanKhau(NgayChuyenDi=datetime.datetime(2023,9,1), NoiChuyenDi='Thạch Thất, Hà Nội', GhiChu='Về quê', ID=3, HoTen= 'Nguyễn Văn Hà', CCCD = '001080000001', MaSo='240000001')"
   ]
  },
  {
   "cell_type": "code",
   "execution_count": 8,
   "metadata": {},
   "outputs": [
    {
     "data": {
      "text/plain": [
       "(100000001, 1, 'Số 1', 'La Khê', 'Hà Đông', 'Hà Nội', 58)"
      ]
     },
     "execution_count": 8,
     "metadata": {},
     "output_type": "execute_result"
    }
   ],
   "source": [
    "HoKhau, ThanhVien = ChucNang.XemSoHoKhau('100000001')\n",
    "HoKhau"
   ]
  },
  {
   "cell_type": "code",
   "execution_count": 9,
   "metadata": {},
   "outputs": [
    {
     "name": "stdout",
     "output_type": "stream",
     "text": [
      "(58, '001202031426', 'Nguyễn Quốc Việt', 'Nam', '2002-11-15', 'Kinh', 'viet Nam', None, 'Hanoi', 'Tony', 100000001, 'Chủ Hộ', '2002-11-15', 'Mới Sinh', None, None, None)\n"
     ]
    }
   ],
   "source": [
    "for i in ThanhVien:\n",
    "    print(i)"
   ]
  }
 ],
 "metadata": {
  "kernelspec": {
   "display_name": "Python 3",
   "language": "python",
   "name": "python3"
  },
  "language_info": {
   "codemirror_mode": {
    "name": "ipython",
    "version": 3
   },
   "file_extension": ".py",
   "mimetype": "text/x-python",
   "name": "python",
   "nbconvert_exporter": "python",
   "pygments_lexer": "ipython3",
   "version": "3.9.6"
  },
  "orig_nbformat": 4,
  "vscode": {
   "interpreter": {
    "hash": "14958d3aee5f1cad06795f787e54b96185c25fb40dfec723a5be941f3a531b8c"
   }
  }
 },
 "nbformat": 4,
 "nbformat_minor": 2
}
