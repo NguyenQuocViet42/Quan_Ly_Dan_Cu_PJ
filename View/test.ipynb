{
 "cells": [
  {
   "cell_type": "code",
   "execution_count": 1,
   "metadata": {},
   "outputs": [],
   "source": [
    "import connectDB\n",
    "import ChucNang\n",
    "import datetime"
   ]
  },
  {
   "cell_type": "code",
   "execution_count": 6,
   "metadata": {},
   "outputs": [
    {
     "data": {
      "text/plain": [
       "(0, 0)"
      ]
     },
     "execution_count": 6,
     "metadata": {},
     "output_type": "execute_result"
    }
   ],
   "source": [
    "ChucNang.TaoDonKienNghi( HoTen = 'Nguyễn Quốc Việt', CCCD = '001202031426', NoiDung='Làm', NgayKN= datetime.datetime(2023,1,10), PhanLoai='Thử')"
   ]
  },
  {
   "cell_type": "code",
   "execution_count": 4,
   "metadata": {},
   "outputs": [
    {
     "data": {
      "text/plain": [
       "(1, '001077000007', 'Phạm Văn Hiếu', 'Nam', '1977-02-24', 'Kinh', 'Việt Nam', None, 'Hà Nội', None, 240000002, 'Con', '2003-09-12', '16 Đ. Phùng Hưng, P. Phúc La, Hà Đông, Hà Nội', None, None, None)"
      ]
     },
     "execution_count": 4,
     "metadata": {},
     "output_type": "execute_result"
    }
   ],
   "source": [
    "connectDB.getTenCUDAN(1)"
   ]
  },
  {
   "cell_type": "code",
   "execution_count": 3,
   "metadata": {},
   "outputs": [
    {
     "data": {
      "text/plain": [
       "'D:\\\\Study\\\\Software engineering\\\\Project\\\\Project\\\\Quan_Ly_Dan_Cu\\\\View\\\\Quan_Ly_Dan_Cu\\\\Data\\\\QLCUDAN.bak'"
      ]
     },
     "execution_count": 3,
     "metadata": {},
     "output_type": "execute_result"
    }
   ],
   "source": [
    "import os\n",
    "path = os.getcwd()\n",
    "path += '\\Quan_Ly_Dan_Cu\\Data\\QLCUDAN.bak'\n",
    "path = 'D' + path[1:]\n",
    "path"
   ]
  },
  {
   "cell_type": "code",
   "execution_count": 6,
   "metadata": {},
   "outputs": [
    {
     "name": "stdout",
     "output_type": "stream",
     "text": [
      "dict_values([8, 58, '001202031426', 'Test', datetime.datetime(2023, 1, 10, 0, 0), 'Thử', 'Chưa xử lý'])\n",
      "dict_values([9, 58, '001202031426', 'Test', datetime.datetime(2023, 1, 10, 0, 0), 'Thử', 'Chưa xử lý'])\n"
     ]
    }
   ],
   "source": [
    "a, b, c= ChucNang.XemDonKienNghi(CCCD='001202031426', HoTen='Nguyễn Quốc Việt')\n",
    "for i in c:\n",
    "    print(i.__dict__.values())"
   ]
  },
  {
   "cell_type": "code",
   "execution_count": 2,
   "metadata": {},
   "outputs": [],
   "source": [
    "(ChucNang.ThemNhanKhauMoi('001202031429', 'Nguyễn Quốc Vũ', 'Nam', '2002-11-15', 'Kinh', 'viet Nam', None, 'Hanoi', 'Ton', 100000001, 'Chủ Hộ', '2002-11-15', 'Mới Sinh'))"
   ]
  },
  {
   "cell_type": "code",
   "execution_count": 2,
   "metadata": {},
   "outputs": [
    {
     "data": {
      "text/plain": [
       "0"
      ]
     },
     "execution_count": 2,
     "metadata": {},
     "output_type": "execute_result"
    }
   ],
   "source": [
    "ChucNang.CapGiayTamTru('Nguyễn Quốc Việt', '001202031426', 'Thach That', 'La Khê',datetime.datetime(2023,1,10), datetime.datetime(2023,2,10), 'Học đại học', datetime.datetime(2023,1,10))"
   ]
  },
  {
   "cell_type": "code",
   "execution_count": 3,
   "metadata": {},
   "outputs": [
    {
     "data": {
      "text/plain": [
       "(1, 'Nguyễn Quốc Việt', '001202031426', 'Thach That', 'La Khê', '2023-01-10', '2023-02-10', 'Học đại học', '2023-01-10')"
      ]
     },
     "execution_count": 3,
     "metadata": {},
     "output_type": "execute_result"
    }
   ],
   "source": [
    "ChucNang.XemGiayTamTru('Nguyễn Quốc Việt', '001202031426')"
   ]
  },
  {
   "cell_type": "markdown",
   "metadata": {},
   "source": [
    "ChucNang.ThemNhanKhauMoi(CCCD = None, Hoten = 'Nguyễn Khánh Ngu', GioiTinh = 'Nam', NgaySinh = datetime.datetime(2002, 11, 15), DanToc = 'Kinh', QuocTich='viet Nam', NgheNghiep='none', QueQuan='Hanoi', BiDanh='Tony', MaSo = '000000001' , QuanHe='Chủ Hộ', NgayDangKyThuongTru = datetime.datetime(2002, 11, 15), DiaChiCu = None)"
   ]
  },
  {
   "cell_type": "markdown",
   "metadata": {},
   "source": [
    "ChucNang.ThayDoiNhanKhau(NgayChuyenDi=datetime.datetime(2023,9,1), NoiChuyenDi='Thạch Thất, Hà Nội', GhiChu='Về quê', ID=3, HoTen= 'Nguyễn Văn Hà', CCCD = '001080000001', MaSo='240000001')"
   ]
  },
  {
   "cell_type": "code",
   "execution_count": 1,
   "metadata": {},
   "outputs": [
    {
     "data": {
      "text/plain": [
       "'LAPTOP-H9AI1NN1'"
      ]
     },
     "execution_count": 1,
     "metadata": {},
     "output_type": "execute_result"
    }
   ],
   "source": [
    "import socket\n",
    "socket.gethostname()"
   ]
  },
  {
   "cell_type": "code",
   "execution_count": 25,
   "metadata": {},
   "outputs": [
    {
     "ename": "ProgrammingError",
     "evalue": "1045 (28000): Access denied for user 'uqkzjddr'@'14.248.246.239' (using password: YES)",
     "output_type": "error",
     "traceback": [
      "\u001b[1;31m---------------------------------------------------------------------------\u001b[0m",
      "\u001b[1;31mMySQLInterfaceError\u001b[0m                       Traceback (most recent call last)",
      "File \u001b[1;32mc:\\Users\\ASUS\\AppData\\Local\\Programs\\Python\\Python39\\lib\\site-packages\\mysql\\connector\\connection_cext.py:268\u001b[0m, in \u001b[0;36mCMySQLConnection._open_connection\u001b[1;34m(self)\u001b[0m\n\u001b[0;32m    267\u001b[0m \u001b[39mtry\u001b[39;00m:\n\u001b[1;32m--> 268\u001b[0m     \u001b[39mself\u001b[39m\u001b[39m.\u001b[39m_cmysql\u001b[39m.\u001b[39mconnect(\u001b[39m*\u001b[39m\u001b[39m*\u001b[39mcnx_kwargs)\n\u001b[0;32m    269\u001b[0m     \u001b[39mself\u001b[39m\u001b[39m.\u001b[39m_cmysql\u001b[39m.\u001b[39mconverter_str_fallback \u001b[39m=\u001b[39m \u001b[39mself\u001b[39m\u001b[39m.\u001b[39m_converter_str_fallback\n",
      "\u001b[1;31mMySQLInterfaceError\u001b[0m: Access denied for user 'uqkzjddr'@'14.248.246.239' (using password: YES)",
      "\nThe above exception was the direct cause of the following exception:\n",
      "\u001b[1;31mProgrammingError\u001b[0m                          Traceback (most recent call last)",
      "Cell \u001b[1;32mIn [25], line 5\u001b[0m\n\u001b[0;32m      2\u001b[0m \u001b[39mimport\u001b[39;00m \u001b[39mmysql\u001b[39;00m\u001b[39m.\u001b[39;00m\u001b[39mconnector\u001b[39;00m\n\u001b[0;32m      4\u001b[0m \u001b[39m# tạo đối tượng connection\u001b[39;00m\n\u001b[1;32m----> 5\u001b[0m myconn \u001b[39m=\u001b[39m mysql\u001b[39m.\u001b[39;49mconnector\u001b[39m.\u001b[39;49mconnect(host \u001b[39m=\u001b[39;49m \u001b[39m\"\u001b[39;49m\u001b[39mfree02.123host.vn\u001b[39;49m\u001b[39m\"\u001b[39;49m, user \u001b[39m=\u001b[39;49m \u001b[39m\"\u001b[39;49m\u001b[39muqkzjddr\u001b[39;49m\u001b[39m\"\u001b[39;49m, \n\u001b[0;32m      6\u001b[0m     passwd \u001b[39m=\u001b[39;49m \u001b[39m\"\u001b[39;49m\u001b[39m07gTnFbjtL9sbZ6\u001b[39;49m\u001b[39m\"\u001b[39;49m)\n\u001b[0;32m      8\u001b[0m \u001b[39m# in đối tượng connection ra màn hình\u001b[39;00m\n\u001b[0;32m      9\u001b[0m \u001b[39mprint\u001b[39m(myconn)\n",
      "File \u001b[1;32mc:\\Users\\ASUS\\AppData\\Local\\Programs\\Python\\Python39\\lib\\site-packages\\mysql\\connector\\pooling.py:286\u001b[0m, in \u001b[0;36mconnect\u001b[1;34m(*args, **kwargs)\u001b[0m\n\u001b[0;32m    283\u001b[0m         \u001b[39mraise\u001b[39;00m \u001b[39mImportError\u001b[39;00m(ERROR_NO_CEXT)\n\u001b[0;32m    285\u001b[0m \u001b[39mif\u001b[39;00m CMySQLConnection \u001b[39mand\u001b[39;00m \u001b[39mnot\u001b[39;00m use_pure:\n\u001b[1;32m--> 286\u001b[0m     \u001b[39mreturn\u001b[39;00m CMySQLConnection(\u001b[39m*\u001b[39margs, \u001b[39m*\u001b[39m\u001b[39m*\u001b[39mkwargs)\n\u001b[0;32m    287\u001b[0m \u001b[39mreturn\u001b[39;00m MySQLConnection(\u001b[39m*\u001b[39margs, \u001b[39m*\u001b[39m\u001b[39m*\u001b[39mkwargs)\n",
      "File \u001b[1;32mc:\\Users\\ASUS\\AppData\\Local\\Programs\\Python\\Python39\\lib\\site-packages\\mysql\\connector\\connection_cext.py:101\u001b[0m, in \u001b[0;36mCMySQLConnection.__init__\u001b[1;34m(self, **kwargs)\u001b[0m\n\u001b[0;32m     98\u001b[0m \u001b[39msuper\u001b[39m()\u001b[39m.\u001b[39m\u001b[39m__init__\u001b[39m()\n\u001b[0;32m    100\u001b[0m \u001b[39mif\u001b[39;00m kwargs:\n\u001b[1;32m--> 101\u001b[0m     \u001b[39mself\u001b[39m\u001b[39m.\u001b[39mconnect(\u001b[39m*\u001b[39m\u001b[39m*\u001b[39mkwargs)\n",
      "File \u001b[1;32mc:\\Users\\ASUS\\AppData\\Local\\Programs\\Python\\Python39\\lib\\site-packages\\mysql\\connector\\abstracts.py:1108\u001b[0m, in \u001b[0;36mMySQLConnectionAbstract.connect\u001b[1;34m(self, **kwargs)\u001b[0m\n\u001b[0;32m   1105\u001b[0m     \u001b[39mself\u001b[39m\u001b[39m.\u001b[39mconfig(\u001b[39m*\u001b[39m\u001b[39m*\u001b[39mkwargs)\n\u001b[0;32m   1107\u001b[0m \u001b[39mself\u001b[39m\u001b[39m.\u001b[39mdisconnect()\n\u001b[1;32m-> 1108\u001b[0m \u001b[39mself\u001b[39;49m\u001b[39m.\u001b[39;49m_open_connection()\n\u001b[0;32m   1109\u001b[0m \u001b[39m# Server does not allow to run any other statement different from ALTER\u001b[39;00m\n\u001b[0;32m   1110\u001b[0m \u001b[39m# when user's password has been expired.\u001b[39;00m\n\u001b[0;32m   1111\u001b[0m \u001b[39mif\u001b[39;00m \u001b[39mnot\u001b[39;00m \u001b[39mself\u001b[39m\u001b[39m.\u001b[39m_client_flags \u001b[39m&\u001b[39m ClientFlag\u001b[39m.\u001b[39mCAN_HANDLE_EXPIRED_PASSWORDS:\n",
      "File \u001b[1;32mc:\\Users\\ASUS\\AppData\\Local\\Programs\\Python\\Python39\\lib\\site-packages\\mysql\\connector\\connection_cext.py:273\u001b[0m, in \u001b[0;36mCMySQLConnection._open_connection\u001b[1;34m(self)\u001b[0m\n\u001b[0;32m    271\u001b[0m         \u001b[39mself\u001b[39m\u001b[39m.\u001b[39mconverter\u001b[39m.\u001b[39mstr_fallback \u001b[39m=\u001b[39m \u001b[39mself\u001b[39m\u001b[39m.\u001b[39m_converter_str_fallback\n\u001b[0;32m    272\u001b[0m \u001b[39mexcept\u001b[39;00m MySQLInterfaceError \u001b[39mas\u001b[39;00m err:\n\u001b[1;32m--> 273\u001b[0m     \u001b[39mraise\u001b[39;00m get_mysql_exception(\n\u001b[0;32m    274\u001b[0m         msg\u001b[39m=\u001b[39merr\u001b[39m.\u001b[39mmsg, errno\u001b[39m=\u001b[39merr\u001b[39m.\u001b[39merrno, sqlstate\u001b[39m=\u001b[39merr\u001b[39m.\u001b[39msqlstate\n\u001b[0;32m    275\u001b[0m     ) \u001b[39mfrom\u001b[39;00m \u001b[39merr\u001b[39;00m\n\u001b[0;32m    277\u001b[0m \u001b[39mself\u001b[39m\u001b[39m.\u001b[39m_do_handshake()\n",
      "\u001b[1;31mProgrammingError\u001b[0m: 1045 (28000): Access denied for user 'uqkzjddr'@'14.248.246.239' (using password: YES)"
     ]
    }
   ],
   "source": [
    "import mysql.connector\n",
    "import mysql.connector\n",
    "  \n",
    "# tạo đối tượng connection\n",
    "myconn = mysql.connector.connect(host = \"free02.123host.vn\", user = \"uqkzjddr\", \n",
    "    passwd = \"07gTnFbjtL9sbZ6\")\n",
    "  \n",
    "# in đối tượng connection ra màn hình\n",
    "print(myconn)"
   ]
  },
  {
   "cell_type": "code",
   "execution_count": 32,
   "metadata": {},
   "outputs": [
    {
     "name": "stdout",
     "output_type": "stream",
     "text": [
      "1049 (42000): Unknown database 'uqkzjddr_viet'\n"
     ]
    }
   ],
   "source": [
    "import mysql.connector\n",
    "try:\n",
    "    # Ket noi MySQL voi Python bang ham mysql.connector.connect()\n",
    "    mydb = mysql.connector.connect(\n",
    "        host=\"localhost\", \n",
    "        user=\"root\",\n",
    "        password=\"qldancu123\",\n",
    "        database=\"uqkzjddr_viet\"\n",
    "    )\n",
    "    print(\"Ket noi thanh cong!\")\n",
    "except Exception as e: # Truong hop co loi khi ket noi\n",
    "    print(e)"
   ]
  }
 ],
 "metadata": {
  "kernelspec": {
   "display_name": "Python 3",
   "language": "python",
   "name": "python3"
  },
  "language_info": {
   "codemirror_mode": {
    "name": "ipython",
    "version": 3
   },
   "file_extension": ".py",
   "mimetype": "text/x-python",
   "name": "python",
   "nbconvert_exporter": "python",
   "pygments_lexer": "ipython3",
   "version": "3.10.4 (tags/v3.10.4:9d38120, Mar 23 2022, 23:13:41) [MSC v.1929 64 bit (AMD64)]"
  },
  "orig_nbformat": 4,
  "vscode": {
   "interpreter": {
    "hash": "a42ccb73e7d9bfdf27e036f1d2b8b681e55fc0743cc5586bc2474d4a60f4b886"
   }
  }
 },
 "nbformat": 4,
 "nbformat_minor": 2
}
