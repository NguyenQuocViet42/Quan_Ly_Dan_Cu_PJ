{
 "cells": [
  {
   "cell_type": "code",
   "execution_count": 1,
   "metadata": {},
   "outputs": [
    {
     "data": {
      "text/plain": [
       "6"
      ]
     },
     "execution_count": 1,
     "metadata": {},
     "output_type": "execute_result"
    }
   ],
   "source": [
    "import connectDB\n",
    "import ChucNang\n",
    "import datetime\n",
    "dk = connectDB.getListCuDanFromHoKhau('240000001')\n",
    "len(dk)"
   ]
  },
  {
   "cell_type": "code",
   "execution_count": 7,
   "metadata": {},
   "outputs": [
    {
     "name": "stdout",
     "output_type": "stream",
     "text": [
      "001202031426\n"
     ]
    }
   ],
   "source": [
    "a, b = ChucNang.XemGiayTamTru(CCCD='001202031426', HoTen='Nguyễn Quốc Việt')\n",
    "print(b.CCCD)"
   ]
  },
  {
   "cell_type": "code",
   "execution_count": 2,
   "metadata": {},
   "outputs": [
    {
     "ename": "ProgrammingError",
     "evalue": "('42S22', \"[42S22] [Microsoft][ODBC SQL Server Driver][SQL Server]Invalid column name 'None'. (207) (SQLExecDirectW); [42S22] [Microsoft][ODBC SQL Server Driver][SQL Server]Invalid column name 'None'. (207); [42S22] [Microsoft][ODBC SQL Server Driver][SQL Server]Invalid column name 'None'. (207); [42S22] [Microsoft][ODBC SQL Server Driver][SQL Server]Statement(s) could not be prepared. (8180)\")",
     "output_type": "error",
     "traceback": [
      "\u001b[1;31m---------------------------------------------------------------------------\u001b[0m",
      "\u001b[1;31mProgrammingError\u001b[0m                          Traceback (most recent call last)",
      "Cell \u001b[1;32mIn [2], line 1\u001b[0m\n\u001b[1;32m----> 1\u001b[0m (ChucNang\u001b[39m.\u001b[39;49mThemNhanKhauMoi(\u001b[39m'\u001b[39;49m\u001b[39m001202031429\u001b[39;49m\u001b[39m'\u001b[39;49m, \u001b[39m'\u001b[39;49m\u001b[39mNguyễn Quốc Vũ\u001b[39;49m\u001b[39m'\u001b[39;49m, \u001b[39m'\u001b[39;49m\u001b[39mNam\u001b[39;49m\u001b[39m'\u001b[39;49m, \u001b[39m'\u001b[39;49m\u001b[39m2002-11-15\u001b[39;49m\u001b[39m'\u001b[39;49m, \u001b[39m'\u001b[39;49m\u001b[39mKinh\u001b[39;49m\u001b[39m'\u001b[39;49m, \u001b[39m'\u001b[39;49m\u001b[39mviet Nam\u001b[39;49m\u001b[39m'\u001b[39;49m, \u001b[39mNone\u001b[39;49;00m, \u001b[39m'\u001b[39;49m\u001b[39mHanoi\u001b[39;49m\u001b[39m'\u001b[39;49m, \u001b[39m'\u001b[39;49m\u001b[39mTon\u001b[39;49m\u001b[39m'\u001b[39;49m, \u001b[39m100000001\u001b[39;49m, \u001b[39m'\u001b[39;49m\u001b[39mChủ Hộ\u001b[39;49m\u001b[39m'\u001b[39;49m, \u001b[39m'\u001b[39;49m\u001b[39m2002-11-15\u001b[39;49m\u001b[39m'\u001b[39;49m, \u001b[39m'\u001b[39;49m\u001b[39mMới Sinh\u001b[39;49m\u001b[39m'\u001b[39;49m))\n",
      "File \u001b[1;32md:\\Study\\Software engineering\\Project\\Project\\Quan_Ly_Dan_Cu\\View\\ChucNang.py:58\u001b[0m, in \u001b[0;36mThemNhanKhauMoi\u001b[1;34m(CCCD, Hoten, GioiTinh, NgaySinh, DanToc, QuocTich, NgheNghiep, QueQuan, BiDanh, MaSo, QuanHe, NgayDangKyThuongTru, DiaChiCu)\u001b[0m\n\u001b[0;32m     56\u001b[0m val \u001b[39m=\u001b[39m (CCCD, Hoten, GioiTinh, NgaySinh, DanToc, QuocTich, NgheNghiep, QueQuan, BiDanh, MaSo , QuanHe, NgayDangKyThuongTru, DiaChiCu)\n\u001b[0;32m     57\u001b[0m \u001b[39m# Thêm vào data base\u001b[39;00m\n\u001b[1;32m---> 58\u001b[0m connectDB\u001b[39m.\u001b[39;49minsertCUDAN(val)\n\u001b[0;32m     59\u001b[0m NoiDung \u001b[39m=\u001b[39m \u001b[39m'\u001b[39m\u001b[39mThêm nhân khẩu \u001b[39m\u001b[39m'\u001b[39m \u001b[39m+\u001b[39m Hoten \u001b[39m+\u001b[39m \u001b[39m'\u001b[39m\u001b[39m \u001b[39m\u001b[39m'\u001b[39m  \u001b[39m+\u001b[39m CCCD \u001b[39m+\u001b[39m \u001b[39m'\u001b[39m\u001b[39m vào hộ khẩu \u001b[39m\u001b[39m'\u001b[39m \u001b[39m+\u001b[39m MaSo \n\u001b[0;32m     60\u001b[0m connectDB\u001b[39m.\u001b[39minsertBienDoi(KieuBienDoi\u001b[39m=\u001b[39m\u001b[39m'\u001b[39m\u001b[39mThêm nhân khẩu mới\u001b[39m\u001b[39m'\u001b[39m, NoiDungBienDoi \u001b[39m=\u001b[39m NoiDung, MaSo \u001b[39m=\u001b[39m MaSo)\n",
      "File \u001b[1;32md:\\Study\\Software engineering\\Project\\Project\\Quan_Ly_Dan_Cu\\View\\connectDB.py:36\u001b[0m, in \u001b[0;36minsertCUDAN\u001b[1;34m(values)\u001b[0m\n\u001b[0;32m     34\u001b[0m \u001b[39mdef\u001b[39;00m \u001b[39minsertCUDAN\u001b[39m(values):\n\u001b[0;32m     35\u001b[0m     query \u001b[39m=\u001b[39m \u001b[39m\"\u001b[39m\u001b[39mINSERT INTO CUDAN (CCCD, Hoten, GioiTinh, NgaySinh, DanToc, QuocTich, NgheNghiep, QueQuan, BiDanh, MaSo, QuanHe, NgayDangKyThuongTru, DiaChiCu, NgayChuyenDi, NoiChuyenDi, GhiChu) VALUES(?, ?, ?, ?, ?, ?, ?, ?, ?, ?, ?, ?, ?, None, None, None)\u001b[39m\u001b[39m\"\u001b[39m\n\u001b[1;32m---> 36\u001b[0m     cursor\u001b[39m.\u001b[39;49mexecute(query, values)\n\u001b[0;32m     37\u001b[0m     mydb\u001b[39m.\u001b[39mcommit()\n",
      "\u001b[1;31mProgrammingError\u001b[0m: ('42S22', \"[42S22] [Microsoft][ODBC SQL Server Driver][SQL Server]Invalid column name 'None'. (207) (SQLExecDirectW); [42S22] [Microsoft][ODBC SQL Server Driver][SQL Server]Invalid column name 'None'. (207); [42S22] [Microsoft][ODBC SQL Server Driver][SQL Server]Invalid column name 'None'. (207); [42S22] [Microsoft][ODBC SQL Server Driver][SQL Server]Statement(s) could not be prepared. (8180)\")"
     ]
    }
   ],
   "source": [
    "(ChucNang.ThemNhanKhauMoi('001202031429', 'Nguyễn Quốc Vũ', 'Nam', '2002-11-15', 'Kinh', 'viet Nam', None, 'Hanoi', 'Ton', 100000001, 'Chủ Hộ', '2002-11-15', 'Mới Sinh'))"
   ]
  },
  {
   "cell_type": "code",
   "execution_count": 2,
   "metadata": {},
   "outputs": [
    {
     "data": {
      "text/plain": [
       "0"
      ]
     },
     "execution_count": 2,
     "metadata": {},
     "output_type": "execute_result"
    }
   ],
   "source": [
    "ChucNang.CapGiayTamTru('Nguyễn Quốc Việt', '001202031426', 'Thach That', 'La Khê',datetime.datetime(2023,1,10), datetime.datetime(2023,2,10), 'Học đại học', datetime.datetime(2023,1,10))"
   ]
  },
  {
   "cell_type": "code",
   "execution_count": 3,
   "metadata": {},
   "outputs": [
    {
     "data": {
      "text/plain": [
       "(1, 'Nguyễn Quốc Việt', '001202031426', 'Thach That', 'La Khê', '2023-01-10', '2023-02-10', 'Học đại học', '2023-01-10')"
      ]
     },
     "execution_count": 3,
     "metadata": {},
     "output_type": "execute_result"
    }
   ],
   "source": [
    "ChucNang.XemGiayTamTru('Nguyễn Quốc Việt', '001202031426')"
   ]
  },
  {
   "cell_type": "markdown",
   "metadata": {},
   "source": [
    "ChucNang.ThemNhanKhauMoi(CCCD = None, Hoten = 'Nguyễn Khánh Ngu', GioiTinh = 'Nam', NgaySinh = datetime.datetime(2002, 11, 15), DanToc = 'Kinh', QuocTich='viet Nam', NgheNghiep='none', QueQuan='Hanoi', BiDanh='Tony', MaSo = '000000001' , QuanHe='Chủ Hộ', NgayDangKyThuongTru = datetime.datetime(2002, 11, 15), DiaChiCu = None)"
   ]
  },
  {
   "cell_type": "markdown",
   "metadata": {},
   "source": [
    "ChucNang.ThayDoiNhanKhau(NgayChuyenDi=datetime.datetime(2023,9,1), NoiChuyenDi='Thạch Thất, Hà Nội', GhiChu='Về quê', ID=3, HoTen= 'Nguyễn Văn Hà', CCCD = '001080000001', MaSo='240000001')"
   ]
  },
  {
   "cell_type": "code",
   "execution_count": 4,
   "metadata": {},
   "outputs": [
    {
     "ename": "IndexError",
     "evalue": "list index out of range",
     "output_type": "error",
     "traceback": [
      "\u001b[1;31m---------------------------------------------------------------------------\u001b[0m",
      "\u001b[1;31mIndexError\u001b[0m                                Traceback (most recent call last)",
      "Cell \u001b[1;32mIn [4], line 1\u001b[0m\n\u001b[1;32m----> 1\u001b[0m HoKhau, ThanhVien \u001b[39m=\u001b[39m ChucNang\u001b[39m.\u001b[39;49mXemSoHoKhau(\u001b[39m'\u001b[39;49m\u001b[39m10000000\u001b[39;49m\u001b[39m'\u001b[39;49m)\n\u001b[0;32m      2\u001b[0m HoKhau\n",
      "File \u001b[1;32md:\\Study\\Software engineering\\Project\\Project\\Quan_Ly_Dan_Cu\\View\\ChucNang.py:8\u001b[0m, in \u001b[0;36mXemSoHoKhau\u001b[1;34m(MaSo)\u001b[0m\n\u001b[0;32m      5\u001b[0m def XemSoHoKhau(MaSo):\n\u001b[0;32m      6\u001b[0m     error_code = 0\n\u001b[0;32m      7\u001b[0m     # Thông tin hộ khẩu: \n\u001b[1;32m----> 8\u001b[0m     # MaSo, CCCDChuHo, SoThanhVien, SoNha/TenDuong, Phuong/Xa, Quan/Huyen,Tinh\n\u001b[0;32m      9\u001b[0m     HoKhau = connectDB.getHoKhau(MaSo)[0]\n\u001b[0;32m     10\u001b[0m     ListCCCD = connectDB.getListCuDanFromHoKhau(HoKhau[0])\n",
      "\u001b[1;31mIndexError\u001b[0m: list index out of range"
     ]
    }
   ],
   "source": [
    "HoKhau, ThanhVien = ChucNang.XemSoHoKhau('10000000')\n",
    "HoKhau"
   ]
  },
  {
   "cell_type": "code",
   "execution_count": 9,
   "metadata": {},
   "outputs": [
    {
     "name": "stdout",
     "output_type": "stream",
     "text": [
      "(58, '001202031426', 'Nguyễn Quốc Việt', 'Nam', '2002-11-15', 'Kinh', 'viet Nam', None, 'Hanoi', 'Tony', 100000001, 'Chủ Hộ', '2002-11-15', 'Mới Sinh', None, None, None)\n"
     ]
    }
   ],
   "source": [
    "for i in ThanhVien:\n",
    "    print(i)"
   ]
  }
 ],
 "metadata": {
  "kernelspec": {
   "display_name": "Python 3",
   "language": "python",
   "name": "python3"
  },
  "language_info": {
   "codemirror_mode": {
    "name": "ipython",
    "version": 3
   },
   "file_extension": ".py",
   "mimetype": "text/x-python",
   "name": "python",
   "nbconvert_exporter": "python",
   "pygments_lexer": "ipython3",
   "version": "3.9.6"
  },
  "orig_nbformat": 4,
  "vscode": {
   "interpreter": {
    "hash": "14958d3aee5f1cad06795f787e54b96185c25fb40dfec723a5be941f3a531b8c"
   }
  }
 },
 "nbformat": 4,
 "nbformat_minor": 2
}
