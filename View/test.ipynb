{
 "cells": [
  {
   "cell_type": "code",
   "execution_count": 1,
   "metadata": {},
   "outputs": [],
   "source": [
    "import connectDB\n",
    "import ChucNang\n",
    "import datetime"
   ]
  },
  {
   "cell_type": "code",
   "execution_count": 4,
   "metadata": {},
   "outputs": [
    {
     "ename": "SyntaxError",
     "evalue": "invalid syntax (3260416961.py, line 1)",
     "output_type": "error",
     "traceback": [
      "\u001b[1;36m  Cell \u001b[1;32mIn [4], line 1\u001b[1;36m\u001b[0m\n\u001b[1;33m    ChucNang.TaoDonKienNghi( HoTen = 'Nguyễn Quốc Việt', CCCD = '001202031426', NoiDung='Làm', NgayKN= =datetime.datetime(2023,1,10), PhanLoai='Thử')\u001b[0m\n\u001b[1;37m                                                                                                       ^\u001b[0m\n\u001b[1;31mSyntaxError\u001b[0m\u001b[1;31m:\u001b[0m invalid syntax\n"
     ]
    }
   ],
   "source": [
    "ChucNang.TaoDonKienNghi( HoTen = 'Nguyễn Quốc Việt', CCCD = '001202031426', NoiDung='Làm', NgayKN= datetime.datetime(2023,1,10), PhanLoai='Thử')"
   ]
  },
  {
   "cell_type": "code",
   "execution_count": 2,
   "metadata": {},
   "outputs": [
    {
     "data": {
      "text/plain": [
       "1"
      ]
     },
     "execution_count": 2,
     "metadata": {},
     "output_type": "execute_result"
    }
   ],
   "source": [
    "ChucNang.DangNhap('topho08', 'vietdeptrai')"
   ]
  },
  {
   "cell_type": "code",
   "execution_count": 3,
   "metadata": {},
   "outputs": [
    {
     "data": {
      "text/plain": [
       "'D:\\\\Study\\\\Software engineering\\\\Project\\\\Project\\\\Quan_Ly_Dan_Cu\\\\View\\\\Quan_Ly_Dan_Cu\\\\Data\\\\QLCUDAN.bak'"
      ]
     },
     "execution_count": 3,
     "metadata": {},
     "output_type": "execute_result"
    }
   ],
   "source": [
    "import os\n",
    "path = os.getcwd()\n",
    "path += '\\Quan_Ly_Dan_Cu\\Data\\QLCUDAN.bak'\n",
    "path = 'D' + path[1:]\n",
    "path"
   ]
  },
  {
   "cell_type": "code",
   "execution_count": 6,
   "metadata": {},
   "outputs": [
    {
     "name": "stdout",
     "output_type": "stream",
     "text": [
      "dict_values([8, 58, '001202031426', 'Test', datetime.datetime(2023, 1, 10, 0, 0), 'Thử', 'Chưa xử lý'])\n",
      "dict_values([9, 58, '001202031426', 'Test', datetime.datetime(2023, 1, 10, 0, 0), 'Thử', 'Chưa xử lý'])\n"
     ]
    }
   ],
   "source": [
    "a, b, c= ChucNang.XemDonKienNghi(CCCD='001202031426', HoTen='Nguyễn Quốc Việt')\n",
    "for i in c:\n",
    "    print(i.__dict__.values())"
   ]
  },
  {
   "cell_type": "code",
   "execution_count": 2,
   "metadata": {},
   "outputs": [],
   "source": [
    "(ChucNang.ThemNhanKhauMoi('001202031429', 'Nguyễn Quốc Vũ', 'Nam', '2002-11-15', 'Kinh', 'viet Nam', None, 'Hanoi', 'Ton', 100000001, 'Chủ Hộ', '2002-11-15', 'Mới Sinh'))"
   ]
  },
  {
   "cell_type": "code",
   "execution_count": 2,
   "metadata": {},
   "outputs": [
    {
     "data": {
      "text/plain": [
       "0"
      ]
     },
     "execution_count": 2,
     "metadata": {},
     "output_type": "execute_result"
    }
   ],
   "source": [
    "ChucNang.CapGiayTamTru('Nguyễn Quốc Việt', '001202031426', 'Thach That', 'La Khê',datetime.datetime(2023,1,10), datetime.datetime(2023,2,10), 'Học đại học', datetime.datetime(2023,1,10))"
   ]
  },
  {
   "cell_type": "code",
   "execution_count": 3,
   "metadata": {},
   "outputs": [
    {
     "data": {
      "text/plain": [
       "(1, 'Nguyễn Quốc Việt', '001202031426', 'Thach That', 'La Khê', '2023-01-10', '2023-02-10', 'Học đại học', '2023-01-10')"
      ]
     },
     "execution_count": 3,
     "metadata": {},
     "output_type": "execute_result"
    }
   ],
   "source": [
    "ChucNang.XemGiayTamTru('Nguyễn Quốc Việt', '001202031426')"
   ]
  },
  {
   "cell_type": "markdown",
   "metadata": {},
   "source": [
    "ChucNang.ThemNhanKhauMoi(CCCD = None, Hoten = 'Nguyễn Khánh Ngu', GioiTinh = 'Nam', NgaySinh = datetime.datetime(2002, 11, 15), DanToc = 'Kinh', QuocTich='viet Nam', NgheNghiep='none', QueQuan='Hanoi', BiDanh='Tony', MaSo = '000000001' , QuanHe='Chủ Hộ', NgayDangKyThuongTru = datetime.datetime(2002, 11, 15), DiaChiCu = None)"
   ]
  },
  {
   "cell_type": "markdown",
   "metadata": {},
   "source": [
    "ChucNang.ThayDoiNhanKhau(NgayChuyenDi=datetime.datetime(2023,9,1), NoiChuyenDi='Thạch Thất, Hà Nội', GhiChu='Về quê', ID=3, HoTen= 'Nguyễn Văn Hà', CCCD = '001080000001', MaSo='240000001')"
   ]
  },
  {
   "cell_type": "code",
   "execution_count": 1,
   "metadata": {},
   "outputs": [
    {
     "data": {
      "text/plain": [
       "'LAPTOP-H9AI1NN1'"
      ]
     },
     "execution_count": 1,
     "metadata": {},
     "output_type": "execute_result"
    }
   ],
   "source": [
    "import socket\n",
    "socket.gethostname()"
   ]
  }
 ],
 "metadata": {
  "kernelspec": {
   "display_name": "Python 3",
   "language": "python",
   "name": "python3"
  },
  "language_info": {
   "codemirror_mode": {
    "name": "ipython",
    "version": 3
   },
   "file_extension": ".py",
   "mimetype": "text/x-python",
   "name": "python",
   "nbconvert_exporter": "python",
   "pygments_lexer": "ipython3",
   "version": "3.9.6"
  },
  "orig_nbformat": 4,
  "vscode": {
   "interpreter": {
    "hash": "14958d3aee5f1cad06795f787e54b96185c25fb40dfec723a5be941f3a531b8c"
   }
  }
 },
 "nbformat": 4,
 "nbformat_minor": 2
}
